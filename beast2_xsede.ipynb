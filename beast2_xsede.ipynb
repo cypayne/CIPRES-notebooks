{
 "cells": [
  {
   "cell_type": "markdown",
   "metadata": {},
   "source": [
    "**BEAST2 v2.1.0: Bayesian Evolutionary Anaysis by Sampling Trees**\n",
    "* Adapted from python_cipres_quickstart notebook, last updated 02/02/2017\n",
    "\n",
    "This notebook is designed to allow you to run your own data through the CIPRES REST API (CRA) BEAST2 interface: the BEAST2 v2.1.0 tool (tool ID: beast2_xsede). \n",
    "\n",
    "** TO DO before running code in this notebook: **\n",
    "\n",
    "1) Make an account (if you have one, skip this step)\n",
    " \n",
    " - Register for a CIPRES REST API account at https://www.phylo.org/restusers/login.action. \n",
    "\n",
    "2) Create an application (if you have one, skip this step)\n",
    "    \n",
    " - ** An application is an easy way to name, organize, and keep track of your processes.**\n",
    " - Once you have logged into your account, go to Developer > Application Management (https://www.phylo.org/restusers/developer). Create a new application by following the instructions listed. \n",
    "\n",
    "3) Remember that the input file format for BEAST 2 is a properly formatted BEAST XML file \n",
    "- This input file can be created using the tool BEAUti.\n",
    "- BEAST/BEAUTi manual: http://www.molecularevolution.org/molevolfiles/beast/BEAST14_MANUAL-7-6-07.pdf)."
   ]
  },
  {
   "cell_type": "markdown",
   "metadata": {},
   "source": [
    "The following lines import/install necessary packages."
   ]
  },
  {
   "cell_type": "code",
   "execution_count": null,
   "metadata": {
    "collapsed": true
   },
   "outputs": [],
   "source": [
    "# provides support for both Python 2 and 3\n",
    "from __future__ import print_function"
   ]
  },
  {
   "cell_type": "code",
   "execution_count": null,
   "metadata": {
    "collapsed": true
   },
   "outputs": [],
   "source": [
    "# install the CIPRES REST API client library \n",
    "!pip install python_cipres"
   ]
  },
  {
   "cell_type": "code",
   "execution_count": null,
   "metadata": {
    "collapsed": true
   },
   "outputs": [],
   "source": [
    "import python_cipres.client as CipresClient\n",
    "import requests\n",
    "import os"
   ]
  },
  {
   "cell_type": "markdown",
   "metadata": {},
   "source": [
    "**BEFORE RUNNING NEXT LINE**\n",
    "<br>Look at your Application Information.</br>\n",
    "Replace the following fields with your own information:\n",
    " - **<span style=\"color:red\">NAME_OF_YOUR_APPLICATION</span>** is the name of your application\n",
    " - **<span style=\"color:red\">YOUR_APPLICATION_ID</span>** is the Application ID listed under your app\n",
    "\n",
    "This should look similar to this example:\n",
    "\n",
    "- **<span style=\"color:purple\">appname = \"demo\"</span>**\n",
    "- **<span style=\"color:purple\">appid = \"mydemo-8126CB900A964FA1AD14174512F9403C\"</span>**"
   ]
  },
  {
   "cell_type": "code",
   "execution_count": null,
   "metadata": {
    "collapsed": true
   },
   "outputs": [],
   "source": [
    "url = \"https://cipresrest.sdsc.edu/cipresrest/v1\"\n",
    "appname = \"NAME_OF_YOUR_APPLICATION\"\n",
    "appid = \"YOUR_APPLICATION_ID\""
   ]
  },
  {
   "cell_type": "markdown",
   "metadata": {},
   "source": [
    "**BEFORE RUNNING NEXT LINE**\n",
    "<br>Replace the following fields with your own information:</br>\n",
    " - **<span style=\"color:red\">REPLACE_WITH_YOUR_USERNAME</span>** with your CRA account username\n",
    " - **<span style=\"color:red\">REPACE_WITH_YOUR_PASSWORD</span>** with your CRA account password"
   ]
  },
  {
   "cell_type": "code",
   "execution_count": null,
   "metadata": {
    "collapsed": true
   },
   "outputs": [],
   "source": [
    "username = \"REPLACE_WITH_YOUR_USERNAME\"\n",
    "password = \"REPLACE_WITH_YOUR_PASSWORD\""
   ]
  },
  {
   "cell_type": "markdown",
   "metadata": {},
   "source": [
    "Now we create a CipresClient to communicate with the CIPRES REST API:"
   ]
  },
  {
   "cell_type": "code",
   "execution_count": null,
   "metadata": {
    "collapsed": true
   },
   "outputs": [],
   "source": [
    "client = CipresClient.Client(appname, appid, username, password, url)"
   ]
  },
  {
   "cell_type": "markdown",
   "metadata": {},
   "source": [
    "**BEFORE RUNNING NEXT LINE**\n",
    "<br>Set the variable 'inputFilename' to the path of your input XML file from your home directory."
   ]
  },
  {
   "cell_type": "code",
   "execution_count": null,
   "metadata": {
    "collapsed": true
   },
   "outputs": [],
   "source": [
    "inputFilename = './PATH_TO_YOUR_FILE/YOUR_FILE_NAME'"
   ]
  },
  {
   "cell_type": "markdown",
   "metadata": {},
   "source": [
    "The following code submits the job to CIPRES with the file you specified above. \n",
    "\n",
    "This is a basic submission. \n",
    "The parameters mean the following:\n",
    "- **<span style=\"color:purple\"> 'tool' : 'BEAST2_XSEDE'</span>**\n",
    "  - selects BEAST2_XSEDE as the CIPRES tool you want to run\n",
    "- **<span style=\"color:purple\"> 'nu_ _patterns_ _' : '150'</span>**\n",
    "  - specifies the number of patterns in XML file (can be found in file - ex. 150)\n",
    "- **<span style=\"color:purple\">'input.infile_' : 'inputFilename'</span>**\n",
    "  - specifies the file to run (the file you specified earlier)\n",
    "- **<span style=\"color:purple\">'metadata.statusEmail' : 'true'</span>**\n",
    "  - an email will be sent to user when job has finished\n",
    "     \n",
    "**If you would like to add parameters, please reference: **\n",
    "\n",
    "1) the BEAST2 tool info page: http://www.phylo.org/index.php/rest/beast2_xsede.html\n",
    "- This page lists all the possible parameters you can run.\n",
    "\n",
    "2) the tool configuration helper, selecting BEAST2 as your tool:\n",
    "    https://www.phylo.org/restusers/docs/cipresXml\n",
    "- This is an easy-to-use tool that generates a command based on the parameter specifications you wish to apply to your data in BEAST2. \n",
    "- **Using the tool configuration helper:** Fill out the Simple/Advanced Parameters fields you are interested in, then press 'View'. This will give you a list of parameters. You can copy each of the parameters headed by 'vparam.' inside the curly braces after the 'tool' parameter (do not include the 'vparam.' header). Example:\n",
    " \n",
    "         job = client.submitJob(\n",
    "                 {'tool' : 'BEAST2_XSEDE', \n",
    "                  'nu_patterns_' : '150', \n",
    "                  'overwrite_logs_' : '1', \n",
    "                  'runtime_' : '1.0'}\n",
    "                 {'input.infile_': inputFilename},\n",
    "                 {'metadata.statusEmail': 'true'});\n",
    "                 \n",
    "Please note that each parameter from the tool configuration helper is listed in the following format:\n",
    "- **<span style=\"color:purple\">'vparam.parameter_name' = 'parameter_value'</span>**\n",
    "\n",
    "You must convert the format of each parameter to the following before adding it to your submitJob function:</br>\n",
    "\n",
    "- **<span style=\"color:purple\">'parameter_name' : 'parameter_value'</span></br>**"
   ]
  },
  {
   "cell_type": "code",
   "execution_count": null,
   "metadata": {
    "collapsed": true
   },
   "outputs": [],
   "source": [
    "job = client.submitJob(\n",
    "        {'tool' : 'BEAST2_XSEDE', 'nu_patterns_' : '150'},\n",
    "        {'input.infile_': inputFilename},\n",
    "        {'metadata.statusEmail': 'true'});"
   ]
  },
  {
   "cell_type": "markdown",
   "metadata": {},
   "source": [
    "Show job status information:"
   ]
  },
  {
   "cell_type": "code",
   "execution_count": null,
   "metadata": {
    "collapsed": true
   },
   "outputs": [],
   "source": [
    "job.show(messages=\"true\")"
   ]
  },
  {
   "cell_type": "markdown",
   "metadata": {},
   "source": [
    "The job was submitted successfully if no errors are shown. To update (refresh) job status:"
   ]
  },
  {
   "cell_type": "code",
   "execution_count": null,
   "metadata": {
    "collapsed": true
   },
   "outputs": [],
   "source": [
    "job.update()\n",
    "job.show(messages=\"true\")"
   ]
  },
  {
   "cell_type": "markdown",
   "metadata": {},
   "source": [
    "The code below ensures the program will wait for your job to finish before proceeding. \n",
    "<br>**Wait for the \"Job ... is finished\" output to appear before running anything else:**</br>"
   ]
  },
  {
   "cell_type": "code",
   "execution_count": null,
   "metadata": {
    "collapsed": true
   },
   "outputs": [],
   "source": [
    "job.waitForCompletion()\n",
    "print(\"Job %s finished.  isError() returns %s\" % (job.jobHandle, job.isError()))"
   ]
  },
  {
   "cell_type": "markdown",
   "metadata": {},
   "source": [
    "To download your result files to a new directory (called BEAST2_Results here):"
   ]
  },
  {
   "cell_type": "code",
   "execution_count": null,
   "metadata": {
    "collapsed": true
   },
   "outputs": [],
   "source": [
    "downloadDir = \"./BEAST2_Results\"\n",
    "try:\n",
    "    os.mkdir(downloadDir)\n",
    "except:\n",
    "    pass \n",
    "job.downloadResults(downloadDir)"
   ]
  },
  {
   "cell_type": "markdown",
   "metadata": {},
   "source": [
    "Once you've downloaded a job's results you should delete the job to conserve space on CIPRES.  If you delete a job that is still running or is queued to run, it will be cancelled."
   ]
  },
  {
   "cell_type": "code",
   "execution_count": null,
   "metadata": {
    "collapsed": true
   },
   "outputs": [],
   "source": [
    "job.delete()"
   ]
  }
 ],
 "metadata": {
  "kernelspec": {
   "display_name": "Python 3",
   "language": "python",
   "name": "python3"
  },
  "language_info": {
   "codemirror_mode": {
    "name": "ipython",
    "version": 3
   },
   "file_extension": ".py",
   "mimetype": "text/x-python",
   "name": "python",
   "nbconvert_exporter": "python",
   "pygments_lexer": "ipython3",
   "version": "3.5.1"
  }
 },
 "nbformat": 4,
 "nbformat_minor": 1
}
