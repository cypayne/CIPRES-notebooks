{
 "cells": [
  {
   "cell_type": "markdown",
   "metadata": {},
   "source": [
    "**partitionfinder 2 & RAxML v8.1.24**\n",
    "\n",
    "*Last updated 03/09/2017*\n",
    "\n",
    "This notebook will run your molecular data through a program called partitionfinder 2, which will simultaneously choose a partition scheme for the data and models of molecular evolution for the partitioned blocks. The result will be automatically run through the CIPRES REST API (CRA) recommended RAxML interface: the RAxML v8.1.24 tool (tool ID: raxmlhpc8_rest_xsede).  \n",
    "\n",
    "- partitionfinder 2 manual: http://www.robertlanfear.com/partitionfinder/assets/Manual_v2.1.x.pdf\n",
    "- RAxML manual: http://sco.h-its.org/exelixis/resource/download/NewManual.pdf\n",
    "\n",
    "Note: To make the use of this notebook smoother, it is recommended that you place this notebook in your home directory. The working directory is the directory in which this notebook is found (working directory is denoted with a '.'). If the paths to directories/files presented in this notebook differ from your own, please change them accordingly.\n",
    "\n",
    "** TO DO before running code in this notebook **\n",
    "\n",
    "1) Make an account (if you have one, skip this step)\n",
    "- Register for a CIPRES REST API account at https://www.phylo.org/restusers/login.action. \n",
    "\n",
    "2) Create an application (if you have one, skip this step)\n",
    "- Once you have logged into your account, go to Developer > Application Management (https://www.phylo.org/restusers/developer). Create a new application by following the instructions listed. \n",
    "- ** An application is just an easy way to name, organize, and keep track of your processes.**\n",
    "\n",
    "3) Download the **Python 2.7 version COMMAND LINE INSTALLER** from https://www.continuum.io/downloads, and follow the directions to install it (bash ./Anaconda2-4.3.0-MacOSX-x86_64.sh).\n",
    "\n",
    "4) Create the configuration (.cfg) file for the partitionfinder 2 analysis as specified in this partitionfinder 2 tutorial (Step 3): http://www.robertlanfear.com/partitionfinder/tutorial/.\n",
    "\n",
    "5) Place your input alignment file (PHYLIP format) and configuration file together in same folder."
   ]
  },
  {
   "cell_type": "markdown",
   "metadata": {},
   "source": [
    "The following code checks if partitionfinder 2 (folder named partitionfinder) is in your working directory: if it isn't, partitionfinder 2 will be downloaded."
   ]
  },
  {
   "cell_type": "code",
   "execution_count": 31,
   "metadata": {
    "collapsed": false,
    "scrolled": true
   },
   "outputs": [
    {
     "name": "stdout",
     "output_type": "stream",
     "text": [
      "partitionfinder directory already exists, proceed...\n"
     ]
    }
   ],
   "source": [
    "import os\n",
    "have_pfinder = os.path.isdir(\"./partitionfinder/\")\n",
    "if have_pfinder == False:\n",
    "    !git clone https://github.com/brettc/partitionfinder.git\n",
    "else:\n",
    "    print(\"partitionfinder directory already exists, proceed...\")"
   ]
  },
  {
   "cell_type": "markdown",
   "metadata": {},
   "source": [
    "The partitionfinder 2 file you run depends on the type of data you have, please refer to the following list and change the file accordingly (currently the command uses PartitionFinder.py (for DNA data)):\n",
    "- **DNA:** PartitionFinder.py\n",
    "- **Protein:** PartitionFinderProtein.py\n",
    "- **Morphological:** PartitionFinderMorphological.py\n",
    "\n",
    "Replace the **<span style=\"color:red\">PATH_TO_DATA</span>** field with the path to the directory containing your phylip data file and configuration file."
   ]
  },
  {
   "cell_type": "code",
   "execution_count": null,
   "metadata": {
    "collapsed": true
   },
   "outputs": [],
   "source": [
    "./partitionfinder/PartitionFinder.py --raxml PATH_TO_DATA"
   ]
  },
  {
   "cell_type": "markdown",
   "metadata": {},
   "source": [
    "The following lines import/install necessary packages."
   ]
  },
  {
   "cell_type": "code",
   "execution_count": null,
   "metadata": {
    "collapsed": true
   },
   "outputs": [],
   "source": [
    "# install the CIPRES REST API client library \n",
    "!pip install python_cipres\n",
    "!pip install biopython\n",
    "\n",
    "# provides support for both Python 2 and 3\n",
    "from __future__ import print_function\n",
    "\n",
    "import python_cipres.client as CipresClient\n",
    "import requests"
   ]
  },
  {
   "cell_type": "markdown",
   "metadata": {},
   "source": [
    "**BEFORE RUNNING NEXT LINE**\n",
    "<br>Look at your Application Information.</br>\n",
    "Replace the following fields with your own information:\n",
    " - **<span style=\"color:red\">NAME_OF_YOUR_APPLICATION</span>** is the name of your application\n",
    " - **<span style=\"color:red\">YOUR_APPLICATION_ID</span>** is the Application ID listed under your app\n",
    "\n",
    "This should look similar to this example:\n",
    "\n",
    "- **<span style=\"color:purple\">appname = \"demo\"</span>**\n",
    "- **<span style=\"color:purple\">appid = \"mydemo-8126CB900A964FA1AD14174512F9403C\"</span>**"
   ]
  },
  {
   "cell_type": "code",
   "execution_count": null,
   "metadata": {
    "collapsed": true
   },
   "outputs": [],
   "source": [
    "url = \"https://cipresrest.sdsc.edu/cipresrest/v1\"\n",
    "appname = \"NAME_OF_YOUR_APPLICATION\"\n",
    "appid = \"YOUR_APPLICATION_ID\""
   ]
  },
  {
   "cell_type": "markdown",
   "metadata": {},
   "source": [
    "**BEFORE RUNNING NEXT LINE**\n",
    "<br>Replace the following fields with your own information:</br>\n",
    " - **<span style=\"color:red\">REPLACE_WITH_YOUR_USERNAME</span>** with your CRA account username\n",
    " - **<span style=\"color:red\">REPACE_WITH_YOUR_PASSWORD</span>** with your CRA account password"
   ]
  },
  {
   "cell_type": "code",
   "execution_count": null,
   "metadata": {
    "collapsed": true
   },
   "outputs": [],
   "source": [
    "username = \"REPLACE_WITH_YOUR_USERNAME\"\n",
    "password = \"REPLACE_WITH_YOUR_PASSWORD\""
   ]
  },
  {
   "cell_type": "markdown",
   "metadata": {},
   "source": [
    "Now we create a CipresClient to communicate with the CIPRES REST API:"
   ]
  },
  {
   "cell_type": "code",
   "execution_count": null,
   "metadata": {
    "collapsed": true
   },
   "outputs": [],
   "source": [
    "client = CipresClient.Client(appname, appid, username, password, url)"
   ]
  },
  {
   "cell_type": "markdown",
   "metadata": {},
   "source": [
    "**BEFORE RUNNING NEXT LINE**\n",
    "<br>Set the variable 'inputFilename' to the path of your input XML file from your home directory."
   ]
  },
  {
   "cell_type": "code",
   "execution_count": 1,
   "metadata": {
    "collapsed": true
   },
   "outputs": [],
   "source": [
    "inputFilename = \"./PATH_TO_YOUR_FILE/YOUR_FILE_NAME\""
   ]
  },
  {
   "cell_type": "markdown",
   "metadata": {},
   "source": [
    "The following code submits the job to CIPRES with the file specified in the above code. \n",
    "\n",
    "This is a basic submission. \n",
    "The parameters mean the following:\n",
    "- **<span style=\"color:purple\"> 'tool' : 'RAXMLHPC8_REST_XSEDE'</span>**\n",
    "  - selects RAXMLHPC8_REST_XSEDE as the CIPRES tool you want to run\n",
    "- **<span style=\"color:purple\">'input.infile_': 'inputFilename'</span>**\n",
    "  - specifies the file to run (the file you specified earlier)\n",
    "- **<span style=\"color:purple\">'input.partition_': 'PATH_TO_DATA/analysis/start_tree/partitions.txt'</span>**\n",
    "  - specifies the partition file output from partitionfinder 2 analysis\n",
    "- **<span style=\"color:purple\">'metadata.statusEmail' : 'true'</span>**\n",
    "  - an email will be sent to user when job has finished\n",
    "     \n",
    "**If you would like to add parameters, please reference: **\n",
    "\n",
    "1) the RAXMLHPC8 tool info page: http://www.phylo.org/index.php/rest/raxmlhpc8_rest_xsede.html\n",
    "- This lists all the possible parameters you can run\n",
    "\n",
    "2) the tool configuration helper, selecting BEAST2 as your tool:\n",
    "    https://www.phylo.org/restusers/docs/cipresXml\n",
    "- This is an easy-to-use tool that generates a command based on the parameter specifications you wish to apply to your data in RAxML. \n",
    "- **Using the tool configuration helper:** Fill out the Simple/Advanced Parameters fields you are interested in, then press 'View'. This will give you a list of parameters. You can copy each of the parameters headed by 'vparam.' inside the curly braces after the 'tool' parameter (do not include the 'vparam.' header). Example:\n",
    " \n",
    "         job = client.submitJob(\n",
    "             {'tool' : 'RAXMLHPC8_REST_XSEDE', \n",
    "              'bootstrap_value_' : '100',\n",
    "              'choose_bootstrap_' : 'x'},\n",
    "             {'input.infile_': inputFilename, \n",
    "              'input.parition_': 'PATH_TO_DATA/analysis/start_tree/partitions.txt'},\n",
    "             {'metadata.statusEmail': 'true'});\n",
    "  \n",
    "Please note that each parameter from the Tool Configuration Helper is listed in the following format (example):\n",
    "- **<span style=\"color:purple\">'vparam.parameter_name' = 'parameter_value'</span>**\n",
    "\n",
    "You must convert the format of each parameter to the following before adding it to your submitJob function:</br>\n",
    "\n",
    "- **<span style=\"color:purple\">'parameter_name' : 'parameter_value'</span></br>**\n",
    "\n",
    "**BEFORE RUNNING NEXT LINE**\n",
    "\n",
    "Replace the **<span style=\"color:red\">PATH_TO_DATA</span>** field with the path to the directory containing your phylip data file and configuration file."
   ]
  },
  {
   "cell_type": "code",
   "execution_count": null,
   "metadata": {
    "collapsed": true
   },
   "outputs": [],
   "source": [
    "job = client.submitJob(\n",
    "        {'tool' : 'RAXMLHPC8_REST_XSEDE'},\n",
    "        {'input.infile_': inputFilename, \n",
    "         'input.partition_': 'PATH_TO_DATA/analysis/start_tree/partitions.txt'},\n",
    "        {'metadata.statusEmail': 'true'})"
   ]
  },
  {
   "cell_type": "markdown",
   "metadata": {},
   "source": [
    "Show job status information:"
   ]
  },
  {
   "cell_type": "code",
   "execution_count": null,
   "metadata": {
    "collapsed": true
   },
   "outputs": [],
   "source": [
    "job.show(messages=\"true\")"
   ]
  },
  {
   "cell_type": "markdown",
   "metadata": {},
   "source": [
    "The job was submitted successfully if no errors are shown. To update (refresh) job status:"
   ]
  },
  {
   "cell_type": "code",
   "execution_count": null,
   "metadata": {
    "collapsed": true
   },
   "outputs": [],
   "source": [
    "job.update()\n",
    "job.show(messages=\"true\")"
   ]
  },
  {
   "cell_type": "markdown",
   "metadata": {},
   "source": [
    "The code below ensures the program will wait for your job to finish before proceeding. \n",
    "<br>**Wait for the \"Job ... is finished\" output to appear before running anything else:**</br>"
   ]
  },
  {
   "cell_type": "code",
   "execution_count": null,
   "metadata": {
    "collapsed": true
   },
   "outputs": [],
   "source": [
    "job.waitForCompletion()\n",
    "print(\"Job %s finished.  isError() returns %s\" % (job.jobHandle, job.isError()))"
   ]
  },
  {
   "cell_type": "markdown",
   "metadata": {},
   "source": [
    "To download your result files to a new directory (called RAxMLResults here):"
   ]
  },
  {
   "cell_type": "code",
   "execution_count": null,
   "metadata": {
    "collapsed": true
   },
   "outputs": [],
   "source": [
    "downloadDir = \"./RAxMLResults\"\n",
    "try:\n",
    "    os.mkdir(downloadDir)\n",
    "except:\n",
    "    pass \n",
    "job.downloadResults(downloadDir)"
   ]
  },
  {
   "cell_type": "markdown",
   "metadata": {},
   "source": [
    "To view all of your result output files, go to your home directory and find the results directory you named with the previous code (ex. RAxMLResults). We can look at one of the results, RAxML_bestTree.results (./RAxMLResults/RAxML_bestTree.result), as a raw newick text file.\n",
    "\n",
    "<p>Using the Biopython package (installed through this notebook), refer to your RAxML best tree result here:</p>"
   ]
  },
  {
   "cell_type": "code",
   "execution_count": null,
   "metadata": {
    "collapsed": true
   },
   "outputs": [],
   "source": [
    "from Bio import Phylo\n",
    "try:\n",
    "    tree = Phylo.read(\"./RAxMLResults/RAxML_bestTree.result\", \"newick\")\n",
    "    Phylo.draw_ascii(tree)\n",
    "except:\n",
    "    print(\"Cannot print best tree because no best tree was created, refer to the following RAxML output: \\n\")\n",
    "    f = open('./RAxMLResults/STDOUT', 'r')\n",
    "    print(f.read())\n",
    "    f.close()\n",
    "    pass "
   ]
  },
  {
   "cell_type": "markdown",
   "metadata": {},
   "source": [
    "Once you've downloaded a job's results you should delete the job to conserve space on CIPRES.  If you delete a job that is still running or is queued to run, it will be cancelled."
   ]
  },
  {
   "cell_type": "code",
   "execution_count": null,
   "metadata": {
    "collapsed": true
   },
   "outputs": [],
   "source": [
    "job.delete()"
   ]
  }
 ],
 "metadata": {
  "kernelspec": {
   "display_name": "Python 3",
   "language": "python",
   "name": "python3"
  },
  "language_info": {
   "codemirror_mode": {
    "name": "ipython",
    "version": 3
   },
   "file_extension": ".py",
   "mimetype": "text/x-python",
   "name": "python",
   "nbconvert_exporter": "python",
   "pygments_lexer": "ipython3",
   "version": "3.5.1"
  }
 },
 "nbformat": 4,
 "nbformat_minor": 1
}
